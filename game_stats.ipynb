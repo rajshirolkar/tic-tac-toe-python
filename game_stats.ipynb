{
 "cells": [
  {
   "cell_type": "code",
   "execution_count": 10,
   "metadata": {},
   "outputs": [
    {
     "data": {
      "text/html": [
       "<div>\n",
       "<style scoped>\n",
       "    .dataframe tbody tr th:only-of-type {\n",
       "        vertical-align: middle;\n",
       "    }\n",
       "\n",
       "    .dataframe tbody tr th {\n",
       "        vertical-align: top;\n",
       "    }\n",
       "\n",
       "    .dataframe thead th {\n",
       "        text-align: right;\n",
       "    }\n",
       "</style>\n",
       "<table border=\"1\" class=\"dataframe\">\n",
       "  <thead>\n",
       "    <tr style=\"text-align: right;\">\n",
       "      <th></th>\n",
       "      <th>game_id</th>\n",
       "      <th>playerX</th>\n",
       "      <th>playerO</th>\n",
       "      <th>winner</th>\n",
       "      <th>winner_char</th>\n",
       "      <th>move1</th>\n",
       "      <th>move2</th>\n",
       "      <th>move3</th>\n",
       "      <th>move4</th>\n",
       "      <th>move5</th>\n",
       "      <th>move6</th>\n",
       "      <th>move7</th>\n",
       "      <th>move8</th>\n",
       "      <th>move9</th>\n",
       "    </tr>\n",
       "  </thead>\n",
       "  <tbody>\n",
       "    <tr>\n",
       "      <th>0</th>\n",
       "      <td>85d21783c1dc43f0a671c86507133963</td>\n",
       "      <td>Human</td>\n",
       "      <td>Bot</td>\n",
       "      <td>Human</td>\n",
       "      <td>X</td>\n",
       "      <td>1-1</td>\n",
       "      <td>1-1</td>\n",
       "      <td>0-0</td>\n",
       "      <td>1-1</td>\n",
       "      <td>2-2</td>\n",
       "      <td>NaN</td>\n",
       "      <td>NaN</td>\n",
       "      <td>NaN</td>\n",
       "      <td>NaN</td>\n",
       "    </tr>\n",
       "    <tr>\n",
       "      <th>1</th>\n",
       "      <td>5ab775f7a9a54d4aac7d7ae69d3b6285</td>\n",
       "      <td>Human</td>\n",
       "      <td>Human</td>\n",
       "      <td>Human</td>\n",
       "      <td>O</td>\n",
       "      <td>1-1</td>\n",
       "      <td>2-2</td>\n",
       "      <td>0-0</td>\n",
       "      <td>2-0</td>\n",
       "      <td>0-2</td>\n",
       "      <td>0-1</td>\n",
       "      <td>1-0</td>\n",
       "      <td>2-1</td>\n",
       "      <td>NaN</td>\n",
       "    </tr>\n",
       "    <tr>\n",
       "      <th>2</th>\n",
       "      <td>4e4499868e054abdb02d8208897d362f</td>\n",
       "      <td>Human</td>\n",
       "      <td>Bot</td>\n",
       "      <td>Human</td>\n",
       "      <td>X</td>\n",
       "      <td>1-1</td>\n",
       "      <td>0-2</td>\n",
       "      <td>0-0</td>\n",
       "      <td>2-2</td>\n",
       "      <td>1-2</td>\n",
       "      <td>0-1</td>\n",
       "      <td>1-0</td>\n",
       "      <td>NaN</td>\n",
       "      <td>NaN</td>\n",
       "    </tr>\n",
       "    <tr>\n",
       "      <th>3</th>\n",
       "      <td>50d622253e4a43088b7d4aafb0672cfa</td>\n",
       "      <td>Human</td>\n",
       "      <td>Bot</td>\n",
       "      <td>Human</td>\n",
       "      <td>X</td>\n",
       "      <td>1-1</td>\n",
       "      <td>2-0</td>\n",
       "      <td>0-0</td>\n",
       "      <td>1-0</td>\n",
       "      <td>2-2</td>\n",
       "      <td>NaN</td>\n",
       "      <td>NaN</td>\n",
       "      <td>NaN</td>\n",
       "      <td>NaN</td>\n",
       "    </tr>\n",
       "    <tr>\n",
       "      <th>4</th>\n",
       "      <td>00a42fd23fcf42fdab3a931da6016e65</td>\n",
       "      <td>Human</td>\n",
       "      <td>Bot</td>\n",
       "      <td>Bot</td>\n",
       "      <td>O</td>\n",
       "      <td>0-0</td>\n",
       "      <td>1-1</td>\n",
       "      <td>0-2</td>\n",
       "      <td>1-0</td>\n",
       "      <td>2-0</td>\n",
       "      <td>2-0</td>\n",
       "      <td>NaN</td>\n",
       "      <td>NaN</td>\n",
       "      <td>NaN</td>\n",
       "    </tr>\n",
       "    <tr>\n",
       "      <th>5</th>\n",
       "      <td>ae2317a3d76c46de92d64505812b15c6</td>\n",
       "      <td>Human</td>\n",
       "      <td>Bot</td>\n",
       "      <td>Human</td>\n",
       "      <td>X</td>\n",
       "      <td>2-2</td>\n",
       "      <td>0-0</td>\n",
       "      <td>1-1</td>\n",
       "      <td>0-0</td>\n",
       "      <td>0-2</td>\n",
       "      <td>1-2</td>\n",
       "      <td>2-0</td>\n",
       "      <td>NaN</td>\n",
       "      <td>NaN</td>\n",
       "    </tr>\n",
       "    <tr>\n",
       "      <th>6</th>\n",
       "      <td>39200972bc5049f6a2a19e1573f0a988</td>\n",
       "      <td>Human</td>\n",
       "      <td>Bot</td>\n",
       "      <td>Human</td>\n",
       "      <td>X</td>\n",
       "      <td>1-1</td>\n",
       "      <td>2-1</td>\n",
       "      <td>2-0</td>\n",
       "      <td>2-1</td>\n",
       "      <td>0-2</td>\n",
       "      <td>NaN</td>\n",
       "      <td>NaN</td>\n",
       "      <td>NaN</td>\n",
       "      <td>NaN</td>\n",
       "    </tr>\n",
       "    <tr>\n",
       "      <th>7</th>\n",
       "      <td>bb779801c8d9480c92ecf4d33f8de337</td>\n",
       "      <td>Human</td>\n",
       "      <td>Bot</td>\n",
       "      <td>Human</td>\n",
       "      <td>X</td>\n",
       "      <td>1-1</td>\n",
       "      <td>0-1</td>\n",
       "      <td>2-0</td>\n",
       "      <td>0-2</td>\n",
       "      <td>2-2</td>\n",
       "      <td>2-1</td>\n",
       "      <td>0-0</td>\n",
       "      <td>NaN</td>\n",
       "      <td>NaN</td>\n",
       "    </tr>\n",
       "    <tr>\n",
       "      <th>8</th>\n",
       "      <td>d81b92f816b843ca882ce7d93247639d</td>\n",
       "      <td>Human</td>\n",
       "      <td>Bot</td>\n",
       "      <td>Human</td>\n",
       "      <td>X</td>\n",
       "      <td>0-0</td>\n",
       "      <td>0-2</td>\n",
       "      <td>1-1</td>\n",
       "      <td>1-0</td>\n",
       "      <td>2-2</td>\n",
       "      <td>NaN</td>\n",
       "      <td>NaN</td>\n",
       "      <td>NaN</td>\n",
       "      <td>NaN</td>\n",
       "    </tr>\n",
       "    <tr>\n",
       "      <th>9</th>\n",
       "      <td>0da57a4697a34d9b922b19b23489d290</td>\n",
       "      <td>Human</td>\n",
       "      <td>Bot</td>\n",
       "      <td>Human</td>\n",
       "      <td>X</td>\n",
       "      <td>2-0</td>\n",
       "      <td>0-0</td>\n",
       "      <td>2-2</td>\n",
       "      <td>2-0</td>\n",
       "      <td>1-1</td>\n",
       "      <td>2-1</td>\n",
       "      <td>0-2</td>\n",
       "      <td>NaN</td>\n",
       "      <td>NaN</td>\n",
       "    </tr>\n",
       "  </tbody>\n",
       "</table>\n",
       "</div>"
      ],
      "text/plain": [
       "                            game_id playerX playerO winner winner_char move1  \\\n",
       "0  85d21783c1dc43f0a671c86507133963   Human     Bot  Human           X   1-1   \n",
       "1  5ab775f7a9a54d4aac7d7ae69d3b6285   Human   Human  Human           O   1-1   \n",
       "2  4e4499868e054abdb02d8208897d362f   Human     Bot  Human           X   1-1   \n",
       "3  50d622253e4a43088b7d4aafb0672cfa   Human     Bot  Human           X   1-1   \n",
       "4  00a42fd23fcf42fdab3a931da6016e65   Human     Bot    Bot           O   0-0   \n",
       "5  ae2317a3d76c46de92d64505812b15c6   Human     Bot  Human           X   2-2   \n",
       "6  39200972bc5049f6a2a19e1573f0a988   Human     Bot  Human           X   1-1   \n",
       "7  bb779801c8d9480c92ecf4d33f8de337   Human     Bot  Human           X   1-1   \n",
       "8  d81b92f816b843ca882ce7d93247639d   Human     Bot  Human           X   0-0   \n",
       "9  0da57a4697a34d9b922b19b23489d290   Human     Bot  Human           X   2-0   \n",
       "\n",
       "  move2 move3 move4 move5 move6 move7 move8  move9  \n",
       "0   1-1   0-0   1-1   2-2   NaN   NaN   NaN    NaN  \n",
       "1   2-2   0-0   2-0   0-2   0-1   1-0   2-1    NaN  \n",
       "2   0-2   0-0   2-2   1-2   0-1   1-0   NaN    NaN  \n",
       "3   2-0   0-0   1-0   2-2   NaN   NaN   NaN    NaN  \n",
       "4   1-1   0-2   1-0   2-0   2-0   NaN   NaN    NaN  \n",
       "5   0-0   1-1   0-0   0-2   1-2   2-0   NaN    NaN  \n",
       "6   2-1   2-0   2-1   0-2   NaN   NaN   NaN    NaN  \n",
       "7   0-1   2-0   0-2   2-2   2-1   0-0   NaN    NaN  \n",
       "8   0-2   1-1   1-0   2-2   NaN   NaN   NaN    NaN  \n",
       "9   0-0   2-2   2-0   1-1   2-1   0-2   NaN    NaN  "
      ]
     },
     "execution_count": 10,
     "metadata": {},
     "output_type": "execute_result"
    }
   ],
   "source": [
    "import pandas as pd\n",
    "import numpy as np\n",
    "import matplotlib.pyplot as plt\n",
    "path = \"./game_data.csv\"\n",
    "games = pd.read_csv(path, index_col=0)\n",
    "games"
   ]
  },
  {
   "cell_type": "code",
   "execution_count": 11,
   "metadata": {},
   "outputs": [
    {
     "data": {
      "text/plain": [
       "10"
      ]
     },
     "execution_count": 11,
     "metadata": {},
     "output_type": "execute_result"
    }
   ],
   "source": [
    "total_games = len(games)\n",
    "total_games"
   ]
  },
  {
   "cell_type": "code",
   "execution_count": 14,
   "metadata": {},
   "outputs": [
    {
     "data": {
      "text/plain": [
       "90.0"
      ]
     },
     "execution_count": 14,
     "metadata": {},
     "output_type": "execute_result"
    }
   ],
   "source": [
    "human_wins = len(games[games[\"winner\"] == \"Human\"])\n",
    "bot_wins = len(games[games[\"winner\"] == \"Bot\"])\n",
    "human_win_percentage = human_wins / total_games * 100\n",
    "bot_win_percentage = bot_wins / total_games * 100\n",
    "human_win_percentage"
   ]
  },
  {
   "cell_type": "code",
   "execution_count": 16,
   "metadata": {},
   "outputs": [
    {
     "data": {
      "text/html": [
       "<div>\n",
       "<style scoped>\n",
       "    .dataframe tbody tr th:only-of-type {\n",
       "        vertical-align: middle;\n",
       "    }\n",
       "\n",
       "    .dataframe tbody tr th {\n",
       "        vertical-align: top;\n",
       "    }\n",
       "\n",
       "    .dataframe thead th {\n",
       "        text-align: right;\n",
       "    }\n",
       "</style>\n",
       "<table border=\"1\" class=\"dataframe\">\n",
       "  <thead>\n",
       "    <tr style=\"text-align: right;\">\n",
       "      <th></th>\n",
       "      <th>move9</th>\n",
       "    </tr>\n",
       "  </thead>\n",
       "  <tbody>\n",
       "    <tr>\n",
       "      <th>count</th>\n",
       "      <td>0.0</td>\n",
       "    </tr>\n",
       "    <tr>\n",
       "      <th>mean</th>\n",
       "      <td>NaN</td>\n",
       "    </tr>\n",
       "    <tr>\n",
       "      <th>std</th>\n",
       "      <td>NaN</td>\n",
       "    </tr>\n",
       "    <tr>\n",
       "      <th>min</th>\n",
       "      <td>NaN</td>\n",
       "    </tr>\n",
       "    <tr>\n",
       "      <th>25%</th>\n",
       "      <td>NaN</td>\n",
       "    </tr>\n",
       "    <tr>\n",
       "      <th>50%</th>\n",
       "      <td>NaN</td>\n",
       "    </tr>\n",
       "    <tr>\n",
       "      <th>75%</th>\n",
       "      <td>NaN</td>\n",
       "    </tr>\n",
       "    <tr>\n",
       "      <th>max</th>\n",
       "      <td>NaN</td>\n",
       "    </tr>\n",
       "  </tbody>\n",
       "</table>\n",
       "</div>"
      ],
      "text/plain": [
       "       move9\n",
       "count    0.0\n",
       "mean     NaN\n",
       "std      NaN\n",
       "min      NaN\n",
       "25%      NaN\n",
       "50%      NaN\n",
       "75%      NaN\n",
       "max      NaN"
      ]
     },
     "execution_count": 16,
     "metadata": {},
     "output_type": "execute_result"
    }
   ],
   "source": [
    "game_stats = games.describe()\n",
    "game_stats"
   ]
  },
  {
   "cell_type": "code",
   "execution_count": 17,
   "metadata": {},
   "outputs": [
    {
     "name": "stdout",
     "output_type": "stream",
     "text": [
      "Number of wins for player X: 8\n",
      "Number of wins for player O: 2\n"
     ]
    }
   ],
   "source": [
    "playerX_wins = games[games[\"winner_char\"] == \"X\"][\"game_id\"].count()\n",
    "playerO_wins = games[games[\"winner_char\"] == \"O\"][\"game_id\"].count()\n",
    "print(f\"Number of wins for player X: {playerX_wins}\")\n",
    "print(f\"Number of wins for player O: {playerO_wins}\")"
   ]
  },
  {
   "cell_type": "code",
   "execution_count": 19,
   "metadata": {},
   "outputs": [
    {
     "name": "stdout",
     "output_type": "stream",
     "text": [
      "Number of games played: 10\n",
      "Win percentage for player X: 80.0%\n",
      "Win percentage for player O: 20.0%\n"
     ]
    }
   ],
   "source": [
    "# Calculate the winning percentage for each player\n",
    "num_games = games[\"game_id\"].count()\n",
    "print(f\"Number of games played: {num_games}\")\n",
    "playerX_win_percent = playerX_wins / num_games * 100\n",
    "playerO_win_percent = playerO_wins / num_games * 100\n",
    "print(f\"Win percentage for player X: {playerX_win_percent:.1f}%\")\n",
    "print(f\"Win percentage for player O: {playerO_win_percent:.1f}%\")"
   ]
  },
  {
   "cell_type": "code",
   "execution_count": 22,
   "metadata": {},
   "outputs": [
    {
     "data": {
      "image/png": "[encoded data removed]",
      "text/plain": [
       "<Figure size 600x400 with 1 Axes>"
      ]
     },
     "metadata": {},
     "output_type": "display_data"
    }
   ],
   "source": [
    "import matplotlib.pyplot as plt\n",
    "plt.figure(figsize=(6, 4))\n",
    "plt.bar([\"X\", \"O\"], [playerX_wins, playerO_wins], color=[\"C0\", \"C1\"])\n",
    "plt.xlabel(\"Player\")\n",
    "plt.ylabel(\"Number of wins\")\n",
    "plt.show()"
   ]
  },
  {
   "cell_type": "code",
   "execution_count": 23,
   "metadata": {},
   "outputs": [
    {
     "data": {
      "image/png": "[encoded data removed]",
      "text/plain": [
       "<Figure size 640x480 with 1 Axes>"
      ]
     },
     "metadata": {},
     "output_type": "display_data"
    }
   ],
   "source": [
    "# Select the columns to plot\n",
    "x = games[\"playerX\"]\n",
    "y = games[\"playerO\"]\n",
    "\n",
    "# Create the scatter plot\n",
    "plt.scatter(x, y)\n",
    "\n",
    "# Add axis labels\n",
    "plt.xlabel(\"Player X\")\n",
    "plt.ylabel(\"Player O\")\n",
    "\n",
    "# Show the plot\n",
    "plt.show()"
   ]
  },
  {
   "cell_type": "code",
   "execution_count": 30,
   "metadata": {},
   "outputs": [
    {
     "data": {
      "text/html": [
       "<div>\n",
       "<style scoped>\n",
       "    .dataframe tbody tr th:only-of-type {\n",
       "        vertical-align: middle;\n",
       "    }\n",
       "\n",
       "    .dataframe tbody tr th {\n",
       "        vertical-align: top;\n",
       "    }\n",
       "\n",
       "    .dataframe thead th {\n",
       "        text-align: right;\n",
       "    }\n",
       "</style>\n",
       "<table border=\"1\" class=\"dataframe\">\n",
       "  <thead>\n",
       "    <tr style=\"text-align: right;\">\n",
       "      <th></th>\n",
       "      <th>variable</th>\n",
       "      <th>value</th>\n",
       "    </tr>\n",
       "  </thead>\n",
       "  <tbody>\n",
       "    <tr>\n",
       "      <th>0</th>\n",
       "      <td>move1</td>\n",
       "      <td>1-1</td>\n",
       "    </tr>\n",
       "    <tr>\n",
       "      <th>1</th>\n",
       "      <td>move1</td>\n",
       "      <td>1-1</td>\n",
       "    </tr>\n",
       "    <tr>\n",
       "      <th>2</th>\n",
       "      <td>move1</td>\n",
       "      <td>1-1</td>\n",
       "    </tr>\n",
       "    <tr>\n",
       "      <th>3</th>\n",
       "      <td>move1</td>\n",
       "      <td>1-1</td>\n",
       "    </tr>\n",
       "    <tr>\n",
       "      <th>4</th>\n",
       "      <td>move1</td>\n",
       "      <td>0-0</td>\n",
       "    </tr>\n",
       "    <tr>\n",
       "      <th>...</th>\n",
       "      <td>...</td>\n",
       "      <td>...</td>\n",
       "    </tr>\n",
       "    <tr>\n",
       "      <th>85</th>\n",
       "      <td>move9</td>\n",
       "      <td>NaN</td>\n",
       "    </tr>\n",
       "    <tr>\n",
       "      <th>86</th>\n",
       "      <td>move9</td>\n",
       "      <td>NaN</td>\n",
       "    </tr>\n",
       "    <tr>\n",
       "      <th>87</th>\n",
       "      <td>move9</td>\n",
       "      <td>NaN</td>\n",
       "    </tr>\n",
       "    <tr>\n",
       "      <th>88</th>\n",
       "      <td>move9</td>\n",
       "      <td>NaN</td>\n",
       "    </tr>\n",
       "    <tr>\n",
       "      <th>89</th>\n",
       "      <td>move9</td>\n",
       "      <td>NaN</td>\n",
       "    </tr>\n",
       "  </tbody>\n",
       "</table>\n",
       "<p>90 rows × 2 columns</p>\n",
       "</div>"
      ],
      "text/plain": [
       "   variable value\n",
       "0     move1   1-1\n",
       "1     move1   1-1\n",
       "2     move1   1-1\n",
       "3     move1   1-1\n",
       "4     move1   0-0\n",
       "..      ...   ...\n",
       "85    move9   NaN\n",
       "86    move9   NaN\n",
       "87    move9   NaN\n",
       "88    move9   NaN\n",
       "89    move9   NaN\n",
       "\n",
       "[90 rows x 2 columns]"
      ]
     },
     "execution_count": 30,
     "metadata": {},
     "output_type": "execute_result"
    }
   ],
   "source": [
    "# Create a new dataframe containing only the 'moveX' columns\n",
    "moves = games.loc[:, 'move1':'move9']\n",
    "moves_long = moves.melt()\n",
    "moves_long"
   ]
  },
  {
   "cell_type": "code",
   "execution_count": 33,
   "metadata": {},
   "outputs": [
    {
     "data": {
      "text/plain": [
       "<AxesSubplot: ylabel='winner'>"
      ]
     },
     "execution_count": 33,
     "metadata": {},
     "output_type": "execute_result"
    },
    {
     "data": {
      "image/png": "[encoded data removed]",
      "text/plain": [
       "<Figure size 640x480 with 1 Axes>"
      ]
     },
     "metadata": {},
     "output_type": "display_data"
    }
   ],
   "source": [
    "games[\"winner\"].value_counts().plot(kind=\"pie\")"
   ]
  },
  {
   "cell_type": "code",
   "execution_count": 36,
   "metadata": {},
   "outputs": [
    {
     "data": {
      "image/png": "[encoded data removed]",
      "text/plain": [
       "<Figure size 640x480 with 1 Axes>"
      ]
     },
     "metadata": {},
     "output_type": "display_data"
    }
   ],
   "source": [
    "# Create a scatter plot showing the relationship between move1 and move2\n",
    "games.plot(x=\"move1\", y=\"move2\", kind=\"scatter\")\n",
    "\n",
    "# Label the x-axis and y-axis\n",
    "plt.xlabel(\"First Move\")\n",
    "plt.ylabel(\"Second Move\")\n",
    "\n",
    "# Show the plot\n",
    "plt.show()\n"
   ]
  },
  {
   "cell_type": "code",
   "execution_count": 37,
   "metadata": {},
   "outputs": [
    {
     "data": {
      "image/png": "[encoded data removed]",
      "text/plain": [
       "<Figure size 640x480 with 1 Axes>"
      ]
     },
     "metadata": {},
     "output_type": "display_data"
    }
   ],
   "source": [
    "# Generate a histogram showing the distribution of values for move1\n",
    "games[\"move1\"].hist()\n",
    "\n",
    "# Label the x-axis and y-axis\n",
    "plt.xlabel(\"First Move\")\n",
    "plt.ylabel(\"Number of Games\")\n",
    "\n",
    "# Show the plot\n",
    "plt.show()\n"
   ]
  },
  {
   "cell_type": "code",
   "execution_count": null,
   "metadata": {},
   "outputs": [],
   "source": []
  }
 ],
 "metadata": {
  "kernelspec": {
   "display_name": "Python 3",
   "language": "python",
   "name": "python3"
  },
  "language_info": {
   "codemirror_mode": {
    "name": "ipython",
    "version": 3
   },
   "file_extension": ".py",
   "mimetype": "text/x-python",
   "name": "python",
   "nbconvert_exporter": "python",
   "pygments_lexer": "ipython3",
   "version": "3.11.1"
  },
  "orig_nbformat": 4,
  "vscode": {
   "interpreter": {
    "hash": "aee8b7b246df8f9039afb4144a1f6fd8d2ca17a180786b69acc140d282b71a49"
   }
  }
 },
 "nbformat": 4,
 "nbformat_minor": 2
}
